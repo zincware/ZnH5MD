{
 "cells": [
  {
   "attachments": {},
   "cell_type": "markdown",
   "metadata": {},
   "source": [
    "# ZnH5MD and ASE\n",
    "\n",
    "ZnH5MD provides a fast and easy way to store trajectory data from a list of ASE Atoms objects in a H5MD database.\n",
    "\n",
    "ZnH5MD only supports a small subset of the features of the `ase.db`.\n",
    "It uses HDF5 to store the data as large arrays and in chunks, which allows very fast access."
   ]
  },
  {
   "cell_type": "code",
   "execution_count": 1,
   "metadata": {},
   "outputs": [],
   "source": [
    "import ase.build\n",
    "import ase.collections\n",
    "from ase.calculators.singlepoint import SinglePointCalculator\n",
    "import numpy as np\n",
    "import ase.db"
   ]
  },
  {
   "cell_type": "code",
   "execution_count": 2,
   "metadata": {},
   "outputs": [],
   "source": [
    "# Construct a list of ASE atoms objects with random properties\n",
    "atoms_list = [ase.build.molecule(x) for x in ase.collections.g2.names]\n",
    "for atoms in atoms_list:\n",
    "    atoms.calc = SinglePointCalculator(\n",
    "        atoms=atoms,\n",
    "        energy=np.random.rand(),\n",
    "        forces=np.random.rand(len(atoms), 3),\n",
    "        stress=np.random.rand(6),\n",
    "    )"
   ]
  },
  {
   "cell_type": "code",
   "execution_count": 3,
   "metadata": {},
   "outputs": [],
   "source": [
    "import znh5md"
   ]
  },
  {
   "cell_type": "code",
   "execution_count": 4,
   "metadata": {},
   "outputs": [
    {
     "name": "stdout",
     "output_type": "stream",
     "text": [
      "CPU times: user 44.9 ms, sys: 0 ns, total: 44.9 ms\n",
      "Wall time: 60.3 ms\n"
     ]
    }
   ],
   "source": [
    "%%time\n",
    "db = znh5md.io.DataWriter(filename=\"db.h5\")\n",
    "db.add(znh5md.io.AtomsReader(atoms_list, step=1, time=0.1))"
   ]
  },
  {
   "cell_type": "code",
   "execution_count": 5,
   "metadata": {},
   "outputs": [
    {
     "name": "stdout",
     "output_type": "stream",
     "text": [
      "CPU times: user 10.4 ms, sys: 0 ns, total: 10.4 ms\n",
      "Wall time: 11.6 ms\n"
     ]
    }
   ],
   "source": [
    "%%time\n",
    "traj = znh5md.ASEH5MD(\"db.h5\")\n",
    "atoms = traj.get_atoms_list()"
   ]
  },
  {
   "cell_type": "code",
   "execution_count": 6,
   "metadata": {},
   "outputs": [
    {
     "data": {
      "text/plain": [
       "162"
      ]
     },
     "execution_count": 6,
     "metadata": {},
     "output_type": "execute_result"
    }
   ],
   "source": [
    "len(atoms)"
   ]
  },
  {
   "cell_type": "code",
   "execution_count": 7,
   "metadata": {},
   "outputs": [
    {
     "data": {
      "text/plain": [
       "array([[ 0.      ,  0.      ,  0.124619],\n",
       "       [ 0.      ,  1.200647, -0.623095],\n",
       "       [ 1.039791, -0.600323, -0.623095],\n",
       "       [-1.039791, -0.600323, -0.623095]])"
      ]
     },
     "execution_count": 7,
     "metadata": {},
     "output_type": "execute_result"
    }
   ],
   "source": [
    "atoms[0].get_positions()"
   ]
  },
  {
   "cell_type": "code",
   "execution_count": 8,
   "metadata": {},
   "outputs": [
    {
     "name": "stdout",
     "output_type": "stream",
     "text": [
      "CPU times: user 24.4 ms, sys: 0 ns, total: 24.4 ms\n",
      "Wall time: 24.7 ms\n"
     ]
    }
   ],
   "source": [
    "ase.io.write(\"molecules.traj\", atoms_list)\n",
    "%time _ = list(ase.io.iread(\"molecules.traj\"))"
   ]
  },
  {
   "cell_type": "code",
   "execution_count": 9,
   "metadata": {},
   "outputs": [
    {
     "name": "stdout",
     "output_type": "stream",
     "text": [
      "CPU times: user 80.2 ms, sys: 0 ns, total: 80.2 ms\n",
      "Wall time: 273 ms\n"
     ]
    }
   ],
   "source": [
    "%%time\n",
    "with ase.db.connect(\"db.db\") as conn:\n",
    "    for atoms in atoms_list:\n",
    "        conn.write(atoms)"
   ]
  },
  {
   "cell_type": "code",
   "execution_count": 10,
   "metadata": {},
   "outputs": [
    {
     "name": "stdout",
     "output_type": "stream",
     "text": [
      "CPU times: user 23.5 ms, sys: 8.46 ms, total: 32 ms\n",
      "Wall time: 467 ms\n"
     ]
    }
   ],
   "source": [
    "%%time\n",
    "atoms_from_db = []\n",
    "with ase.db.connect(\"db.db\") as conn:\n",
    "    for row in conn.select():\n",
    "        atoms_from_db.append(row.toatoms())"
   ]
  },
  {
   "cell_type": "code",
   "execution_count": 11,
   "metadata": {},
   "outputs": [
    {
     "data": {
      "text/plain": [
       "array([[ 0.      ,  0.      ,  0.124619],\n",
       "       [ 0.      ,  1.200647, -0.623095],\n",
       "       [ 1.039791, -0.600323, -0.623095],\n",
       "       [-1.039791, -0.600323, -0.623095]])"
      ]
     },
     "execution_count": 11,
     "metadata": {},
     "output_type": "execute_result"
    }
   ],
   "source": [
    "atoms_from_db[0].get_positions()"
   ]
  },
  {
   "attachments": {},
   "cell_type": "markdown",
   "metadata": {},
   "source": [
    "Use ASE to read files"
   ]
  },
  {
   "cell_type": "code",
   "execution_count": 12,
   "metadata": {},
   "outputs": [],
   "source": [
    "ase.io.write(\"traj.xyz\", atoms_list)"
   ]
  },
  {
   "cell_type": "code",
   "execution_count": 13,
   "metadata": {},
   "outputs": [
    {
     "name": "stderr",
     "output_type": "stream",
     "text": [
      "162it [00:00, 6154.02it/s]\n"
     ]
    }
   ],
   "source": [
    "db = znh5md.io.DataWriter(filename=\"from_file.h5\")\n",
    "db.add(znh5md.io.ASEFileReader(\"traj.xyz\", step=1, time=0.1))"
   ]
  },
  {
   "cell_type": "code",
   "execution_count": 14,
   "metadata": {},
   "outputs": [],
   "source": [
    "# traj = znh5md.ASEH5MD(\"from_file.h5\") # ASE Interface\n",
    "traj = znh5md.DaskH5MD(\"from_file.h5\") # Dask Interface"
   ]
  },
  {
   "cell_type": "code",
   "execution_count": 15,
   "metadata": {},
   "outputs": [
    {
     "data": {
      "text/html": [
       "<table>\n",
       "    <tr>\n",
       "        <td>\n",
       "            <table style=\"border-collapse: collapse;\">\n",
       "                <thead>\n",
       "                    <tr>\n",
       "                        <td> </td>\n",
       "                        <th> Array </th>\n",
       "                        <th> Chunk </th>\n",
       "                    </tr>\n",
       "                </thead>\n",
       "                <tbody>\n",
       "                    \n",
       "                    <tr>\n",
       "                        <th> Bytes </th>\n",
       "                        <td> 53.16 kiB </td>\n",
       "                        <td> 2.34 kiB </td>\n",
       "                    </tr>\n",
       "                    \n",
       "                    <tr>\n",
       "                        <th> Shape </th>\n",
       "                        <td> (162, 14, 3) </td>\n",
       "                        <td> (10, 10, 3) </td>\n",
       "                    </tr>\n",
       "                    <tr>\n",
       "                        <th> Dask graph </th>\n",
       "                        <td colspan=\"2\"> 34 chunks in 2 graph layers </td>\n",
       "                    </tr>\n",
       "                    <tr>\n",
       "                        <th> Data type </th>\n",
       "                        <td colspan=\"2\"> float64 numpy.ndarray </td>\n",
       "                    </tr>\n",
       "                </tbody>\n",
       "            </table>\n",
       "        </td>\n",
       "        <td>\n",
       "        <svg width=\"159\" height=\"158\" style=\"stroke:rgb(0,0,0);stroke-width:1\" >\n",
       "\n",
       "  <!-- Horizontal lines -->\n",
       "  <line x1=\"10\" y1=\"0\" x2=\"80\" y2=\"70\" style=\"stroke-width:2\" />\n",
       "  <line x1=\"10\" y1=\"26\" x2=\"80\" y2=\"97\" />\n",
       "  <line x1=\"10\" y1=\"37\" x2=\"80\" y2=\"108\" style=\"stroke-width:2\" />\n",
       "\n",
       "  <!-- Vertical lines -->\n",
       "  <line x1=\"10\" y1=\"0\" x2=\"10\" y2=\"37\" style=\"stroke-width:2\" />\n",
       "  <line x1=\"14\" y1=\"4\" x2=\"14\" y2=\"42\" />\n",
       "  <line x1=\"18\" y1=\"8\" x2=\"18\" y2=\"46\" />\n",
       "  <line x1=\"23\" y1=\"13\" x2=\"23\" y2=\"50\" />\n",
       "  <line x1=\"27\" y1=\"17\" x2=\"27\" y2=\"55\" />\n",
       "  <line x1=\"31\" y1=\"21\" x2=\"31\" y2=\"59\" />\n",
       "  <line x1=\"36\" y1=\"26\" x2=\"36\" y2=\"63\" />\n",
       "  <line x1=\"40\" y1=\"30\" x2=\"40\" y2=\"68\" />\n",
       "  <line x1=\"44\" y1=\"34\" x2=\"44\" y2=\"72\" />\n",
       "  <line x1=\"49\" y1=\"39\" x2=\"49\" y2=\"76\" />\n",
       "  <line x1=\"53\" y1=\"43\" x2=\"53\" y2=\"81\" />\n",
       "  <line x1=\"57\" y1=\"47\" x2=\"57\" y2=\"85\" />\n",
       "  <line x1=\"62\" y1=\"52\" x2=\"62\" y2=\"90\" />\n",
       "  <line x1=\"66\" y1=\"56\" x2=\"66\" y2=\"94\" />\n",
       "  <line x1=\"71\" y1=\"61\" x2=\"71\" y2=\"98\" />\n",
       "  <line x1=\"75\" y1=\"65\" x2=\"75\" y2=\"103\" />\n",
       "  <line x1=\"79\" y1=\"69\" x2=\"79\" y2=\"107\" />\n",
       "  <line x1=\"80\" y1=\"70\" x2=\"80\" y2=\"108\" style=\"stroke-width:2\" />\n",
       "\n",
       "  <!-- Colored Rectangle -->\n",
       "  <polygon points=\"10.0,0.0 80.58823529411765,70.58823529411765 80.58823529411765,108.36135091487148 10.0,37.773115620753835\" style=\"fill:#ECB172A0;stroke-width:0\"/>\n",
       "\n",
       "  <!-- Horizontal lines -->\n",
       "  <line x1=\"10\" y1=\"0\" x2=\"38\" y2=\"0\" style=\"stroke-width:2\" />\n",
       "  <line x1=\"14\" y1=\"4\" x2=\"42\" y2=\"4\" />\n",
       "  <line x1=\"18\" y1=\"8\" x2=\"47\" y2=\"8\" />\n",
       "  <line x1=\"23\" y1=\"13\" x2=\"51\" y2=\"13\" />\n",
       "  <line x1=\"27\" y1=\"17\" x2=\"56\" y2=\"17\" />\n",
       "  <line x1=\"31\" y1=\"21\" x2=\"60\" y2=\"21\" />\n",
       "  <line x1=\"36\" y1=\"26\" x2=\"64\" y2=\"26\" />\n",
       "  <line x1=\"40\" y1=\"30\" x2=\"69\" y2=\"30\" />\n",
       "  <line x1=\"44\" y1=\"34\" x2=\"73\" y2=\"34\" />\n",
       "  <line x1=\"49\" y1=\"39\" x2=\"77\" y2=\"39\" />\n",
       "  <line x1=\"53\" y1=\"43\" x2=\"82\" y2=\"43\" />\n",
       "  <line x1=\"57\" y1=\"47\" x2=\"86\" y2=\"47\" />\n",
       "  <line x1=\"62\" y1=\"52\" x2=\"90\" y2=\"52\" />\n",
       "  <line x1=\"66\" y1=\"56\" x2=\"95\" y2=\"56\" />\n",
       "  <line x1=\"71\" y1=\"61\" x2=\"99\" y2=\"61\" />\n",
       "  <line x1=\"75\" y1=\"65\" x2=\"103\" y2=\"65\" />\n",
       "  <line x1=\"79\" y1=\"69\" x2=\"108\" y2=\"69\" />\n",
       "  <line x1=\"80\" y1=\"70\" x2=\"109\" y2=\"70\" style=\"stroke-width:2\" />\n",
       "\n",
       "  <!-- Vertical lines -->\n",
       "  <line x1=\"10\" y1=\"0\" x2=\"80\" y2=\"70\" style=\"stroke-width:2\" />\n",
       "  <line x1=\"38\" y1=\"0\" x2=\"109\" y2=\"70\" style=\"stroke-width:2\" />\n",
       "\n",
       "  <!-- Colored Rectangle -->\n",
       "  <polygon points=\"10.0,0.0 38.60073031597908,0.0 109.18896561009673,70.58823529411765 80.58823529411765,70.58823529411765\" style=\"fill:#ECB172A0;stroke-width:0\"/>\n",
       "\n",
       "  <!-- Horizontal lines -->\n",
       "  <line x1=\"80\" y1=\"70\" x2=\"109\" y2=\"70\" style=\"stroke-width:2\" />\n",
       "  <line x1=\"80\" y1=\"97\" x2=\"109\" y2=\"97\" />\n",
       "  <line x1=\"80\" y1=\"108\" x2=\"109\" y2=\"108\" style=\"stroke-width:2\" />\n",
       "\n",
       "  <!-- Vertical lines -->\n",
       "  <line x1=\"80\" y1=\"70\" x2=\"80\" y2=\"108\" style=\"stroke-width:2\" />\n",
       "  <line x1=\"109\" y1=\"70\" x2=\"109\" y2=\"108\" style=\"stroke-width:2\" />\n",
       "\n",
       "  <!-- Colored Rectangle -->\n",
       "  <polygon points=\"80.58823529411765,70.58823529411765 109.18896561009673,70.58823529411765 109.18896561009673,108.36135091487148 80.58823529411765,108.36135091487148\" style=\"fill:#ECB172A0;stroke-width:0\"/>\n",
       "\n",
       "  <!-- Text -->\n",
       "  <text x=\"94.888600\" y=\"128.361351\" font-size=\"1.0rem\" font-weight=\"100\" text-anchor=\"middle\" >3</text>\n",
       "  <text x=\"129.188966\" y=\"89.474793\" font-size=\"1.0rem\" font-weight=\"100\" text-anchor=\"middle\" transform=\"rotate(0,129.188966,89.474793)\">14</text>\n",
       "  <text x=\"35.294118\" y=\"93.067233\" font-size=\"1.0rem\" font-weight=\"100\" text-anchor=\"middle\" transform=\"rotate(45,35.294118,93.067233)\">162</text>\n",
       "</svg>\n",
       "        </td>\n",
       "    </tr>\n",
       "</table>"
      ],
      "text/plain": [
       "dask.array<array, shape=(162, 14, 3), dtype=float64, chunksize=(10, 10, 3), chunktype=numpy.ndarray>"
      ]
     },
     "execution_count": 15,
     "metadata": {},
     "output_type": "execute_result"
    }
   ],
   "source": [
    "traj.position.value"
   ]
  },
  {
   "cell_type": "code",
   "execution_count": 16,
   "metadata": {},
   "outputs": [
    {
     "data": {
      "text/html": [
       "<table>\n",
       "    <tr>\n",
       "        <td>\n",
       "            <table style=\"border-collapse: collapse;\">\n",
       "                <thead>\n",
       "                    <tr>\n",
       "                        <td> </td>\n",
       "                        <th> Array </th>\n",
       "                        <th> Chunk </th>\n",
       "                    </tr>\n",
       "                </thead>\n",
       "                <tbody>\n",
       "                    \n",
       "                    <tr>\n",
       "                        <th> Bytes </th>\n",
       "                        <td> 53.16 kiB </td>\n",
       "                        <td> 53.16 kiB </td>\n",
       "                    </tr>\n",
       "                    \n",
       "                    <tr>\n",
       "                        <th> Shape </th>\n",
       "                        <td> (162, 14, 3) </td>\n",
       "                        <td> (162, 14, 3) </td>\n",
       "                    </tr>\n",
       "                    <tr>\n",
       "                        <th> Dask graph </th>\n",
       "                        <td colspan=\"2\"> 1 chunks in 2 graph layers </td>\n",
       "                    </tr>\n",
       "                    <tr>\n",
       "                        <th> Data type </th>\n",
       "                        <td colspan=\"2\"> float64 numpy.ndarray </td>\n",
       "                    </tr>\n",
       "                </tbody>\n",
       "            </table>\n",
       "        </td>\n",
       "        <td>\n",
       "        <svg width=\"159\" height=\"158\" style=\"stroke:rgb(0,0,0);stroke-width:1\" >\n",
       "\n",
       "  <!-- Horizontal lines -->\n",
       "  <line x1=\"10\" y1=\"0\" x2=\"80\" y2=\"70\" style=\"stroke-width:2\" />\n",
       "  <line x1=\"10\" y1=\"37\" x2=\"80\" y2=\"108\" style=\"stroke-width:2\" />\n",
       "\n",
       "  <!-- Vertical lines -->\n",
       "  <line x1=\"10\" y1=\"0\" x2=\"10\" y2=\"37\" style=\"stroke-width:2\" />\n",
       "  <line x1=\"80\" y1=\"70\" x2=\"80\" y2=\"108\" style=\"stroke-width:2\" />\n",
       "\n",
       "  <!-- Colored Rectangle -->\n",
       "  <polygon points=\"10.0,0.0 80.58823529411765,70.58823529411765 80.58823529411765,108.36135091487148 10.0,37.773115620753835\" style=\"fill:#ECB172A0;stroke-width:0\"/>\n",
       "\n",
       "  <!-- Horizontal lines -->\n",
       "  <line x1=\"10\" y1=\"0\" x2=\"38\" y2=\"0\" style=\"stroke-width:2\" />\n",
       "  <line x1=\"80\" y1=\"70\" x2=\"109\" y2=\"70\" style=\"stroke-width:2\" />\n",
       "\n",
       "  <!-- Vertical lines -->\n",
       "  <line x1=\"10\" y1=\"0\" x2=\"80\" y2=\"70\" style=\"stroke-width:2\" />\n",
       "  <line x1=\"38\" y1=\"0\" x2=\"109\" y2=\"70\" style=\"stroke-width:2\" />\n",
       "\n",
       "  <!-- Colored Rectangle -->\n",
       "  <polygon points=\"10.0,0.0 38.60073031597908,0.0 109.18896561009673,70.58823529411765 80.58823529411765,70.58823529411765\" style=\"fill:#ECB172A0;stroke-width:0\"/>\n",
       "\n",
       "  <!-- Horizontal lines -->\n",
       "  <line x1=\"80\" y1=\"70\" x2=\"109\" y2=\"70\" style=\"stroke-width:2\" />\n",
       "  <line x1=\"80\" y1=\"108\" x2=\"109\" y2=\"108\" style=\"stroke-width:2\" />\n",
       "\n",
       "  <!-- Vertical lines -->\n",
       "  <line x1=\"80\" y1=\"70\" x2=\"80\" y2=\"108\" style=\"stroke-width:2\" />\n",
       "  <line x1=\"109\" y1=\"70\" x2=\"109\" y2=\"108\" style=\"stroke-width:2\" />\n",
       "\n",
       "  <!-- Colored Rectangle -->\n",
       "  <polygon points=\"80.58823529411765,70.58823529411765 109.18896561009673,70.58823529411765 109.18896561009673,108.36135091487148 80.58823529411765,108.36135091487148\" style=\"fill:#ECB172A0;stroke-width:0\"/>\n",
       "\n",
       "  <!-- Text -->\n",
       "  <text x=\"94.888600\" y=\"128.361351\" font-size=\"1.0rem\" font-weight=\"100\" text-anchor=\"middle\" >3</text>\n",
       "  <text x=\"129.188966\" y=\"89.474793\" font-size=\"1.0rem\" font-weight=\"100\" text-anchor=\"middle\" transform=\"rotate(0,129.188966,89.474793)\">14</text>\n",
       "  <text x=\"35.294118\" y=\"93.067233\" font-size=\"1.0rem\" font-weight=\"100\" text-anchor=\"middle\" transform=\"rotate(45,35.294118,93.067233)\">162</text>\n",
       "</svg>\n",
       "        </td>\n",
       "    </tr>\n",
       "</table>"
      ],
      "text/plain": [
       "dask.array<array, shape=(162, 14, 3), dtype=float64, chunksize=(162, 14, 3), chunktype=numpy.ndarray>"
      ]
     },
     "execution_count": 16,
     "metadata": {},
     "output_type": "execute_result"
    }
   ],
   "source": [
    "traj.forces.value"
   ]
  },
  {
   "cell_type": "code",
   "execution_count": 17,
   "metadata": {},
   "outputs": [
    {
     "data": {
      "text/plain": [
       "(162, 14, 3)"
      ]
     },
     "execution_count": 17,
     "metadata": {},
     "output_type": "execute_result"
    }
   ],
   "source": [
    "traj.position.value.compute().shape"
   ]
  },
  {
   "cell_type": "code",
   "execution_count": 18,
   "metadata": {},
   "outputs": [
    {
     "data": {
      "text/plain": [
       "array([[ 0.      ,  0.      ,  0.124619],\n",
       "       [ 0.      ,  1.200647, -0.623095],\n",
       "       [ 1.039791, -0.600323, -0.623095],\n",
       "       [-1.039791, -0.600323, -0.623095],\n",
       "       [      nan,       nan,       nan],\n",
       "       [      nan,       nan,       nan],\n",
       "       [      nan,       nan,       nan],\n",
       "       [      nan,       nan,       nan],\n",
       "       [      nan,       nan,       nan],\n",
       "       [      nan,       nan,       nan],\n",
       "       [      nan,       nan,       nan],\n",
       "       [      nan,       nan,       nan],\n",
       "       [      nan,       nan,       nan],\n",
       "       [      nan,       nan,       nan]])"
      ]
     },
     "execution_count": 18,
     "metadata": {},
     "output_type": "execute_result"
    }
   ],
   "source": [
    "# ZnH5MD fills values with NaNs to make the arrays the same size\n",
    "traj.position.value.compute()[0]"
   ]
  },
  {
   "cell_type": "code",
   "execution_count": 19,
   "metadata": {},
   "outputs": [],
   "source": [
    "!rm db.h5 db.db from_file.h5 traj.xyz molecules.traj"
   ]
  },
  {
   "cell_type": "code",
   "execution_count": null,
   "metadata": {},
   "outputs": [],
   "source": []
  }
 ],
 "metadata": {
  "kernelspec": {
   "display_name": "znh5md",
   "language": "python",
   "name": "python3"
  },
  "language_info": {
   "codemirror_mode": {
    "name": "ipython",
    "version": 3
   },
   "file_extension": ".py",
   "mimetype": "text/x-python",
   "name": "python",
   "nbconvert_exporter": "python",
   "pygments_lexer": "ipython3",
   "version": "3.10.9"
  },
  "orig_nbformat": 4
 },
 "nbformat": 4,
 "nbformat_minor": 2
}
