{
 "cells": [
  {
   "cell_type": "code",
   "execution_count": 1,
   "metadata": {
    "collapsed": true
   },
   "outputs": [],
   "source": [
    "from znh5md.templates import LammpsH5MD\n",
    "from zinchub import DataHub"
   ]
  },
  {
   "cell_type": "code",
   "execution_count": 2,
   "outputs": [
    {
     "data": {
      "text/plain": "'lammps_npt.h5'"
     },
     "execution_count": 2,
     "metadata": {},
     "output_type": "execute_result"
    }
   ],
   "source": [
    "NaCl = DataHub(url=\"https://github.com/zincware/DataHub/tree/main/NaClH5MD\")"
   ],
   "metadata": {
    "collapsed": false,
    "pycharm": {
     "name": "#%%\n"
    }
   }
  },
  {
   "cell_type": "code",
   "execution_count": 3,
   "outputs": [],
   "source": [
    "traj = LammpsH5MD(NaCl.get_file())"
   ],
   "metadata": {
    "collapsed": false,
    "pycharm": {
     "name": "#%%\n"
    }
   }
  },
  {
   "cell_type": "code",
   "execution_count": 7,
   "outputs": [
    {
     "name": "stdout",
     "output_type": "stream",
     "text": [
      "(5, 10, 3)\n"
     ]
    }
   ],
   "source": [
    "print(traj.position[:5, :10].shape)"
   ],
   "metadata": {
    "collapsed": false,
    "pycharm": {
     "name": "#%%\n"
    }
   }
  },
  {
   "cell_type": "code",
   "execution_count": 5,
   "outputs": [
    {
     "name": "stdout",
     "output_type": "stream",
     "text": [
      "{'step': <tf.Tensor: shape=(16,), dtype=int32, numpy=\n",
      "array([    0,  1000,  2000,  3000,  4000,  5000,  6000,  7000,  8000,\n",
      "        9000, 10000, 11000, 12000, 13000, 14000, 15000], dtype=int32)>, 'time': <tf.Tensor: shape=(16,), dtype=float64, numpy=\n",
      "array([ 0.,  1.,  2.,  3.,  4.,  5.,  6.,  7.,  8.,  9., 10., 11., 12.,\n",
      "       13., 14., 15.])>, 'value': <tf.Tensor: shape=(16, 1000, 3), dtype=float64, numpy=\n",
      "array([[[12.68      , 12.76      , 22.45      ],\n",
      "        [14.13      , 18.42      , 15.32      ],\n",
      "        [29.63      ,  9.73      ,  6.4       ],\n",
      "        ...,\n",
      "        [25.7       , 31.43      , 10.21      ],\n",
      "        [12.87      ,  6.86      , 31.61      ],\n",
      "        [14.98      , 25.42      , 26.76      ]],\n",
      "\n",
      "       [[14.32642164, 14.38138961, 21.49369015],\n",
      "        [13.0392567 , 17.96638991, 17.42442922],\n",
      "        [30.08765406, 10.68043946,  5.9443841 ],\n",
      "        ...,\n",
      "        [24.16762117, 30.10362162, 10.98561193],\n",
      "        [11.18806231,  7.56374404, 29.65563923],\n",
      "        [15.52416291, 27.50930006, 25.24302901]],\n",
      "\n",
      "       [[13.84179135, 15.664175  , 22.00792845],\n",
      "        [15.70484454, 18.71341188, 17.92290595],\n",
      "        [32.8517352 , 12.19323856,  2.13982769],\n",
      "        ...,\n",
      "        [24.15272153, 31.1590832 ,  9.09862654],\n",
      "        [11.16387481,  5.68389033, 30.81311573],\n",
      "        [14.38107808, 27.04767538, 23.99738143]],\n",
      "\n",
      "       ...,\n",
      "\n",
      "       [[11.83209199, 19.62987566, 22.8289655 ],\n",
      "        [11.00502431, 19.82767234, 12.17772177],\n",
      "        [28.69330167,  9.13243767,  6.36151088],\n",
      "        ...,\n",
      "        [25.50517443, 29.56636177, 12.52384087],\n",
      "        [15.22654952, 11.22829354, 29.93064883],\n",
      "        [11.29125717, 28.94871676, 20.99994765]],\n",
      "\n",
      "       [[10.08427805, 16.87377581, 23.21658901],\n",
      "        [ 8.66224374, 18.32081127, 13.57018683],\n",
      "        [30.59392317, 10.51480937,  7.49598601],\n",
      "        ...,\n",
      "        [24.71303616, 30.26463309, 10.80487075],\n",
      "        [16.91255617, 10.81261762, 29.79871966],\n",
      "        [12.89535256, 27.4485767 , 20.47071821]],\n",
      "\n",
      "       [[ 9.55153755, 16.36384396, 25.4411425 ],\n",
      "        [ 8.13777803, 17.30090675, 14.17683671],\n",
      "        [29.79937639, 13.59508896,  6.63487889],\n",
      "        ...,\n",
      "        [24.82245557, 30.63624442,  9.43227089],\n",
      "        [18.27438918, 12.51460422, 28.45307429],\n",
      "        [11.92323929, 30.43186626, 21.88006628]]])>}\n"
     ]
    }
   ],
   "source": [
    "for position in traj.position.get_dataset().batch(16):\n",
    "    print(position)\n",
    "    break"
   ],
   "metadata": {
    "collapsed": false,
    "pycharm": {
     "name": "#%%\n"
    }
   }
  },
  {
   "cell_type": "code",
   "execution_count": 10,
   "outputs": [
    {
     "name": "stdout",
     "output_type": "stream",
     "text": [
      "(32, 500, 3)\n",
      "(32, 500, 3)\n",
      "(32, 500, 3)\n",
      "(32, 500, 3)\n",
      "(32, 500, 3)\n",
      "(32, 500, 3)\n",
      "(9, 500, 3)\n",
      "CPU times: user 232 ms, sys: 32.5 ms, total: 265 ms\n",
      "Wall time: 425 ms\n"
     ]
    }
   ],
   "source": [
    "%%time\n",
    "for position in traj.position.value.get_dataset(selection=slice(500)).batch(32):\n",
    "    print(position.shape)"
   ],
   "metadata": {
    "collapsed": false,
    "pycharm": {
     "name": "#%%\n"
    }
   }
  },
  {
   "cell_type": "code",
   "execution_count": 15,
   "outputs": [
    {
     "name": "stdout",
     "output_type": "stream",
     "text": [
      "(32, 500, 3)\n",
      "(32, 500, 3)\n",
      "(32, 500, 3)\n",
      "(32, 500, 3)\n",
      "(32, 500, 3)\n",
      "(32, 500, 3)\n",
      "(9, 500, 3)\n",
      "CPU times: user 57.1 ms, sys: 8.46 ms, total: 65.5 ms\n",
      "Wall time: 66.1 ms\n"
     ]
    }
   ],
   "source": [
    "%%time\n",
    "for position in traj.position.value.get_dataset(selection=slice(500), prefetch=32).batch(32):\n",
    "    print(position.shape)"
   ],
   "metadata": {
    "collapsed": false,
    "pycharm": {
     "name": "#%%\n"
    }
   }
  },
  {
   "cell_type": "code",
   "execution_count": 17,
   "outputs": [
    {
     "data": {
      "text/plain": "(5, 3, 3)"
     },
     "execution_count": 17,
     "metadata": {},
     "output_type": "execute_result"
    }
   ],
   "source": [
    "traj.velocity[:5, :3].shape"
   ],
   "metadata": {
    "collapsed": false,
    "pycharm": {
     "name": "#%%\n"
    }
   }
  },
  {
   "cell_type": "code",
   "execution_count": null,
   "outputs": [],
   "source": [],
   "metadata": {
    "collapsed": false,
    "pycharm": {
     "name": "#%%\n"
    }
   }
  }
 ],
 "metadata": {
  "kernelspec": {
   "display_name": "Python 3",
   "language": "python",
   "name": "python3"
  },
  "language_info": {
   "codemirror_mode": {
    "name": "ipython",
    "version": 2
   },
   "file_extension": ".py",
   "mimetype": "text/x-python",
   "name": "python",
   "nbconvert_exporter": "python",
   "pygments_lexer": "ipython2",
   "version": "2.7.6"
  }
 },
 "nbformat": 4,
 "nbformat_minor": 0
}