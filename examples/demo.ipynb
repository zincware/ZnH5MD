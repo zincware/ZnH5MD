{
 "cells": [
  {
   "cell_type": "markdown",
   "metadata": {},
   "source": [
    "# Generate supported H5MD files"
   ]
  },
  {
   "cell_type": "code",
   "execution_count": 1,
   "metadata": {},
   "outputs": [],
   "source": [
    "import contextlib\n",
    "import os\n",
    "\n",
    "import numpy as np\n",
    "from ase.build import molecule\n",
    "from ase.calculators.singlepoint import SinglePointCalculator\n",
    "from ase.collections import s22\n",
    "\n",
    "import znh5md"
   ]
  },
  {
   "cell_type": "code",
   "execution_count": 2,
   "metadata": {},
   "outputs": [],
   "source": [
    "REMOVE_EXISTING = True"
   ]
  },
  {
   "cell_type": "markdown",
   "metadata": {},
   "source": [
    "# Molecular Dynamics\n",
    "- same system size\n",
    "- velocities"
   ]
  },
  {
   "cell_type": "code",
   "execution_count": 3,
   "metadata": {},
   "outputs": [],
   "source": [
    "if REMOVE_EXISTING:\n",
    "    with contextlib.suppress(FileNotFoundError):\n",
    "        os.remove(\"md.h5\")\n",
    "\n",
    "md_io = znh5md.IO(\"md.h5\")\n",
    "water = molecule(\"H2O\")\n",
    "for step in range(100):\n",
    "    water.calc = SinglePointCalculator(\n",
    "        water, energy=np.random.rand(), forces=np.random.rand(3, 3)\n",
    "    )\n",
    "    water.set_velocities(np.random.rand(3, 3))\n",
    "    md_io.append(water)"
   ]
  },
  {
   "cell_type": "markdown",
   "metadata": {},
   "source": [
    "# Dataset\n",
    "- varying particle size\n",
    "- all different kinds of `info` and `array` usages"
   ]
  },
  {
   "cell_type": "code",
   "execution_count": 4,
   "metadata": {},
   "outputs": [],
   "source": [
    "if REMOVE_EXISTING:\n",
    "    with contextlib.suppress(FileNotFoundError):\n",
    "        os.remove(\"s22.h5\")\n",
    "\n",
    "frames = list(s22)\n",
    "for atoms in frames:\n",
    "    atoms.info[\"description\"] = \"Frame from the S22 dataset\"\n",
    "    atoms.calc = SinglePointCalculator(\n",
    "        atoms, energy=np.random.rand(), forces=np.random.rand(len(atoms), 3)\n",
    "    )\n",
    "    atoms.calc.results[\"custom-energy\"] = np.random.rand()\n",
    "    atoms.calc.results[\"custom-forces\"] = np.random.rand((len(atoms)), 3)\n",
    "    atoms.arrays[\"meta\"] = [{\"species\": x} for x in atoms.get_chemical_symbols()]\n",
    "\n",
    "s22_io = znh5md.IO(\"s22.h5\")\n",
    "s22_io.extend(frames)"
   ]
  },
  {
   "cell_type": "code",
   "execution_count": 5,
   "metadata": {},
   "outputs": [],
   "source": [
    "md_io = znh5md.IO(\"md.h5\")\n",
    "s22_io = znh5md.IO(\"s22.h5\")"
   ]
  },
  {
   "cell_type": "code",
   "execution_count": 6,
   "metadata": {},
   "outputs": [
    {
     "data": {
      "text/plain": [
       "{'forces': array([[0.61281086, 0.48599618, 0.79391986],\n",
       "        [0.80450081, 0.16155503, 0.2453571 ],\n",
       "        [0.32136056, 0.4103074 , 0.01911111]]),\n",
       " 'energy': 0.646635117967683}"
      ]
     },
     "execution_count": 6,
     "metadata": {},
     "output_type": "execute_result"
    }
   ],
   "source": [
    "md_io[0].calc.results"
   ]
  },
  {
   "cell_type": "code",
   "execution_count": null,
   "metadata": {},
   "outputs": [],
   "source": []
  }
 ],
 "metadata": {
  "kernelspec": {
   "display_name": "znh5md",
   "language": "python",
   "name": "python3"
  },
  "language_info": {
   "codemirror_mode": {
    "name": "ipython",
    "version": 3
   },
   "file_extension": ".py",
   "mimetype": "text/x-python",
   "name": "python",
   "nbconvert_exporter": "python",
   "pygments_lexer": "ipython3",
   "version": "3.11.9"
  }
 },
 "nbformat": 4,
 "nbformat_minor": 2
}
