{
 "cells": [
  {
   "cell_type": "markdown",
   "source": [
    "# ZnH5MD - High Performance Interface for H5MD Trajectories\n",
    "\n",
    "ZnH5MD allows you to easily access properties stored in the [H5MD](https://www.nongnu.org/h5md/) standard. Furthermore, ZnH5MD provides powerful generators based on [TensorFlow Data API](https://www.tensorflow.org/guide/data_performance) that enable the processing of large datafiles in memory-safe batches."
   ],
   "metadata": {
    "collapsed": false,
    "pycharm": {
     "name": "#%% md\n"
    }
   }
  },
  {
   "cell_type": "code",
   "execution_count": 1,
   "outputs": [],
   "source": [
    "from znh5md import LammpsH5MD"
   ],
   "metadata": {
    "collapsed": false,
    "pycharm": {
     "name": "#%%\n"
    }
   }
  },
  {
   "cell_type": "code",
   "execution_count": 2,
   "outputs": [],
   "source": [
    "# We use ZincHub to gather an example Simulation\n",
    "from zinchub import DataHub\n",
    "NaCl = DataHub(url=\"https://github.com/zincware/DataHub/tree/main/NaClH5MD\")\n",
    "filename = NaCl.get_file()"
   ],
   "metadata": {
    "collapsed": false,
    "pycharm": {
     "name": "#%%\n"
    }
   }
  },
  {
   "cell_type": "markdown",
   "source": [
    "The trajectory object (`LammpsH5MD` for Lammps files) gives access to the supported properties and generators."
   ],
   "metadata": {
    "collapsed": false,
    "pycharm": {
     "name": "#%% md\n"
    }
   }
  },
  {
   "cell_type": "code",
   "execution_count": 3,
   "outputs": [],
   "source": [
    "traj = LammpsH5MD(filename)"
   ],
   "metadata": {
    "collapsed": false,
    "pycharm": {
     "name": "#%%\n"
    }
   }
  },
  {
   "cell_type": "code",
   "execution_count": 4,
   "outputs": [
    {
     "data": {
      "text/plain": "['box', 'force', 'image', 'position', 'species', 'velocity']"
     },
     "execution_count": 4,
     "metadata": {},
     "output_type": "execute_result"
    }
   ],
   "source": [
    "# Available groups are\n",
    "traj.get_groups()"
   ],
   "metadata": {
    "collapsed": false,
    "pycharm": {
     "name": "#%%\n"
    }
   }
  },
  {
   "cell_type": "code",
   "execution_count": 5,
   "outputs": [
    {
     "data": {
      "text/plain": "(201, 1000, 3)"
     },
     "execution_count": 5,
     "metadata": {},
     "output_type": "execute_result"
    }
   ],
   "source": [
    "traj.position.shape # 201 configurations with 1000 particles each"
   ],
   "metadata": {
    "collapsed": false,
    "pycharm": {
     "name": "#%%\n"
    }
   }
  },
  {
   "cell_type": "markdown",
   "source": [
    "By passing `batch_size` to `get_dataset` we can split our positions. The base-dataset contains `step`, `time` and `value` as defined by H5MD.\n",
    "We can further specify if we only need access to the values by accessing `position.value.get_dataset().`"
   ],
   "metadata": {
    "collapsed": false,
    "pycharm": {
     "name": "#%% md\n"
    }
   }
  },
  {
   "cell_type": "code",
   "execution_count": 6,
   "outputs": [
    {
     "name": "stdout",
     "output_type": "stream",
     "text": [
      "dict_keys(['step', 'time', 'value'])\n",
      "tf.Tensor(\n",
      "[    0  1000  2000  3000  4000  5000  6000  7000  8000  9000 10000 11000\n",
      " 12000 13000 14000 15000 16000 17000 18000 19000 20000 21000 22000 23000\n",
      " 24000 25000 26000 27000 28000 29000 30000 31000], shape=(32,), dtype=int32)\n",
      "tf.Tensor(\n",
      "[ 0.  1.  2.  3.  4.  5.  6.  7.  8.  9. 10. 11. 12. 13. 14. 15. 16. 17.\n",
      " 18. 19. 20. 21. 22. 23. 24. 25. 26. 27. 28. 29. 30. 31.], shape=(32,), dtype=float64)\n",
      "(32, 1000, 3)\n",
      "Wall time: 153 ms\n"
     ]
    }
   ],
   "source": [
    "%%time\n",
    "for position in traj.position.get_dataset(batch_size=32):\n",
    "    print(position.keys())\n",
    "    print(position['step'])\n",
    "    print(position['time'])\n",
    "    print(position['value'].shape)\n",
    "    break"
   ],
   "metadata": {
    "collapsed": false,
    "pycharm": {
     "name": "#%%\n"
    }
   }
  },
  {
   "cell_type": "code",
   "execution_count": 7,
   "outputs": [
    {
     "name": "stdout",
     "output_type": "stream",
     "text": [
      "(32, 500, 3)\n",
      "(32, 500, 3)\n",
      "(32, 500, 3)\n",
      "(32, 500, 3)\n",
      "(32, 500, 3)\n",
      "(32, 500, 3)\n",
      "(9, 500, 3)\n",
      "Wall time: 43 ms\n"
     ]
    }
   ],
   "source": [
    "%%time\n",
    "for position in traj.position.value.get_dataset(selection=slice(500), batch_size=32):\n",
    "    print(position.shape)"
   ],
   "metadata": {
    "collapsed": false,
    "pycharm": {
     "name": "#%%\n"
    }
   }
  },
  {
   "cell_type": "markdown",
   "source": [
    "ZnH5MD supports iterating over different axis and supports selection along the select axis as well as the remaining ones. The shape will always remain `(n_configurations, n_particles, n_dims)`."
   ],
   "metadata": {
    "collapsed": false,
    "pycharm": {
     "name": "#%% md\n"
    }
   }
  },
  {
   "cell_type": "code",
   "execution_count": 8,
   "outputs": [
    {
     "name": "stdout",
     "output_type": "stream",
     "text": [
      "(201, 128, 3)\n",
      "(201, 128, 3)\n",
      "(201, 128, 3)\n",
      "(201, 128, 3)\n",
      "(201, 128, 3)\n",
      "(201, 128, 3)\n",
      "(201, 128, 3)\n",
      "(201, 104, 3)\n",
      "Wall time: 62 ms\n"
     ]
    }
   ],
   "source": [
    "%%time\n",
    "for position in traj.position.value.get_dataset(axis=1, batch_size=128):\n",
    "    print(position.shape)"
   ],
   "metadata": {
    "collapsed": false,
    "pycharm": {
     "name": "#%%\n"
    }
   }
  },
  {
   "cell_type": "markdown",
   "source": [
    "## Selection of particles\n",
    "\n",
    "Currently, the selection is static but will be extended by a dynamic per-configuration selection."
   ],
   "metadata": {
    "collapsed": false,
    "pycharm": {
     "name": "#%% md\n"
    }
   }
  },
  {
   "cell_type": "code",
   "execution_count": 9,
   "outputs": [],
   "source": [
    "import numpy as np\n",
    "species_1 = np.arange(traj.species.shape[1])[traj.species[0] == 1].tolist()"
   ],
   "metadata": {
    "collapsed": false,
    "pycharm": {
     "name": "#%%\n"
    }
   }
  },
  {
   "cell_type": "code",
   "execution_count": 10,
   "outputs": [
    {
     "name": "stdout",
     "output_type": "stream",
     "text": [
      "(128, 500, 3)\n",
      "(73, 500, 3)\n",
      "Wall time: 39 ms\n"
     ]
    }
   ],
   "source": [
    "%%time\n",
    "for position in traj.position.value.get_dataset(selection=species_1, batch_size=128):\n",
    "    print(position.shape)"
   ],
   "metadata": {
    "collapsed": false,
    "pycharm": {
     "name": "#%%\n"
    }
   }
  }
 ],
 "metadata": {
  "kernelspec": {
   "display_name": "Python 3",
   "language": "python",
   "name": "python3"
  },
  "language_info": {
   "codemirror_mode": {
    "name": "ipython",
    "version": 2
   },
   "file_extension": ".py",
   "mimetype": "text/x-python",
   "name": "python",
   "nbconvert_exporter": "python",
   "pygments_lexer": "ipython2",
   "version": "2.7.6"
  }
 },
 "nbformat": 4,
 "nbformat_minor": 0
}